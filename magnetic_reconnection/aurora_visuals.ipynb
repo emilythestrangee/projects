{
  "nbformat": 4,
  "nbformat_minor": 0,
  "metadata": {
    "colab": {
      "provenance": []
    },
    "kernelspec": {
      "name": "python3",
      "display_name": "Python 3"
    },
    "language_info": {
      "name": "python"
    }
  },
  "cells": [
    {
      "cell_type": "code",
      "execution_count": null,
      "metadata": {
        "id": "MhlmTQ1ul8TL"
      },
      "outputs": [],
      "source": [
        "import json\n",
        "import simplekml\n",
        "import requests"
      ]
    },
    {
      "cell_type": "code",
      "source": [
        "!pip install simplekml"
      ],
      "metadata": {
        "colab": {
          "base_uri": "https://localhost:8080/"
        },
        "id": "XfNocYF0BN-l",
        "outputId": "6b72dd1d-5447-4cd3-b0f6-97e0d3570195"
      },
      "execution_count": null,
      "outputs": [
        {
          "output_type": "stream",
          "name": "stdout",
          "text": [
            "Collecting simplekml\n",
            "  Downloading simplekml-1.3.6.tar.gz (52 kB)\n",
            "\u001b[?25l     \u001b[90m━━━━━━━━━━━━━━━━━━━━━━━━━━━━━━━━━━━━━━━━\u001b[0m \u001b[32m0.0/53.0 kB\u001b[0m \u001b[31m?\u001b[0m eta \u001b[36m-:--:--\u001b[0m\r\u001b[2K     \u001b[90m━━━━━━━━━━━━━━━━━━━━━━━━━━━━━━━━━━━━━━━━\u001b[0m \u001b[32m53.0/53.0 kB\u001b[0m \u001b[31m1.4 MB/s\u001b[0m eta \u001b[36m0:00:00\u001b[0m\n",
            "\u001b[?25h  Preparing metadata (setup.py) ... \u001b[?25l\u001b[?25hdone\n",
            "Building wheels for collected packages: simplekml\n",
            "  Building wheel for simplekml (setup.py) ... \u001b[?25l\u001b[?25hdone\n",
            "  Created wheel for simplekml: filename=simplekml-1.3.6-py3-none-any.whl size=65860 sha256=90ce798eceaae2747685aee63d972edc4be5b48839631e2253b70b85841dca8a\n",
            "  Stored in directory: /root/.cache/pip/wheels/16/7c/e6/621a95f24bd1ff987368f1c37881ffe013433ff6b413d87fcb\n",
            "Successfully built simplekml\n",
            "Installing collected packages: simplekml\n",
            "Successfully installed simplekml-1.3.6\n"
          ]
        }
      ]
    },
    {
      "cell_type": "code",
      "source": [
        "def download_latest_data():\n",
        "  url=\"https://services.swpc.noaa.gov/json/ovation_aurora_latest.json\"  #using url instead of file as data is dynamic not static\n",
        "  req=requests.get(url,allow_redirects= False)\n",
        "  open('ovation_aurora_latest.json','wb').write(req.content)\n",
        "\n",
        "download_latest_data()\n",
        "\n",
        "with open('ovation_aurora_latest.json') as f:\n",
        "  data=json.load(f)\n",
        "\n",
        "coordinates=data[\"coordinates\"]\n",
        "kml_north=simplekml.Kml()\n",
        "kml_south=simplekml.Kml()\n",
        "kml_max=simplekml.Kml()\n",
        "max_intensity=0\n",
        "longitude_max=0\n",
        "latitude_max=0\n",
        "\n",
        "for c in coordinates:\n",
        "  if c[2]>max_intensity:\n",
        "    max_intensity=c[2]\n",
        "    longitude_max=c[0]\n",
        "    latitude_max=c[1]\n",
        "  if c[2]!=0 and c[1]>0:                             #aurora borealis(northern lights): c[1]>0 signifies latitudes above equator\n",
        "    kml_north.newpoint(name=c[2], coords=[(c[0],c[1])])\n",
        "  if c[2]!=0 and c[1]<0:                             #aurora australis(southern lights): c[1]<0 signifies latitudes below equator\n",
        "    kml_south.newpoint(name=c[2],coords=[(c[0],c[1])])\n",
        "\n",
        "\n",
        "kml_max.newpoint(name=max_intensity, coords=[(longitude_max, latitude_max)])\n",
        "kml_max.save('ovation_aurora_latest_max.kml')\n",
        "kml_north.save('ovation_aurora_north.kml')\n",
        "kml_south.save('ovation_aurora_south.kml')"
      ],
      "metadata": {
        "id": "pRmtSpXHfVoM"
      },
      "execution_count": null,
      "outputs": []
    }
  ]
}
