import json
import simplekml
import requests

def download_latest_data():
  url="https://services.swpc.noaa.gov/json/ovation_aurora_latest.json"  #using url instead of file as data is dynamic not static
  req=requests.get(url,allow_redirects= False)
  open('ovation_aurora_latest.json','wb').write(req.content)

download_latest_data()

with open('ovation_aurora_latest.json') as f:
  data=json.load(f)

coordinates=data["coordinates"]
kml_north=simplekml.Kml()
kml_south=simplekml.Kml()
kml_max=simplekml.Kml()
max_intensity=0
longitude_max=0
latitude_max=0

for c in coordinates:
  if c[2]>max_intensity:
    max_intensity=c[2]
    longitude_max=c[0]
    latitude_max=c[1]
  if c[2]!=0 and c[1]>0:                             #aurora borealis(northern lights): c[1]>0 signifies latitudes above equator
    kml_north.newpoint(name=c[2], coords=[(c[0],c[1])])
  if c[2]!=0 and c[1]<0:                             #aurora australis(southern lights): c[1]<0 signifies latitudes below equator
    kml_south.newpoint(name=c[2],coords=[(c[0],c[1])])


kml_max.newpoint(name=max_intensity, coords=[(longitude_max, latitude_max)])
kml_max.save('ovation_aurora_latest_max.kml')
kml_north.save('ovation_aurora_north.kml')
kml_south.save('ovation_aurora_south.kml')
